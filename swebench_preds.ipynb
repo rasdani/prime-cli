{
 "cells": [
  {
   "cell_type": "code",
   "execution_count": 6,
   "id": "77ddde4b",
   "metadata": {},
   "outputs": [],
   "source": [
    "import datasets"
   ]
  },
  {
   "cell_type": "code",
   "execution_count": 7,
   "id": "06f25f00",
   "metadata": {},
   "outputs": [
    {
     "data": {
      "text/plain": [
       "Dataset({\n",
       "    features: ['instance_id', 'model_name_or_path', 'model_patch', 'prediction'],\n",
       "    num_rows: 100\n",
       "})"
      ]
     },
     "execution_count": 7,
     "metadata": {},
     "output_type": "execute_result"
    }
   ],
   "source": [
    "ds = datasets.load_dataset(\"rasdani/Qwen__Qwen3-14B_preds_100\", split=\"train\")\n",
    "ds"
   ]
  },
  {
   "cell_type": "code",
   "execution_count": 8,
   "id": "4ca46013",
   "metadata": {},
   "outputs": [
    {
     "data": {
      "text/plain": [
       "'sympy__sympy-21596'"
      ]
     },
     "execution_count": 8,
     "metadata": {},
     "output_type": "execute_result"
    }
   ],
   "source": [
    "ds[0][\"instance_id\"]"
   ]
  },
  {
   "cell_type": "code",
   "execution_count": 12,
   "id": "15701b44",
   "metadata": {},
   "outputs": [
    {
     "name": "stderr",
     "output_type": "stream",
     "text": [
      "Filter: 100%|██████████| 100/100 [00:00<00:00, 21529.12 examples/s]\n"
     ]
    }
   ],
   "source": [
    "# ds = ds.select(range(2))\n",
    "instance_ids = [\n",
    "    \"sympy__sympy-17655\",   # successful patch\n",
    "    \"matplotlib__matplotlib-24637\", # unsuccessful patch\n",
    "]\n",
    "ds = ds.filter(lambda x: x[\"instance_id\"] in instance_ids)"
   ]
  },
  {
   "cell_type": "code",
   "execution_count": 13,
   "id": "21e17fad",
   "metadata": {},
   "outputs": [
    {
     "name": "stderr",
     "output_type": "stream",
     "text": [
      "Creating json from Arrow format: 100%|██████████| 1/1 [00:00<00:00, 226.78ba/s]\n"
     ]
    },
    {
     "data": {
      "text/plain": [
       "26768"
      ]
     },
     "execution_count": 13,
     "metadata": {},
     "output_type": "execute_result"
    }
   ],
   "source": [
    "# ds.to_json(\"Qwen__Qwen3-14B_preds_100.jsonl\", orient=\"records\", lines=True)\n",
    "ds.to_json(\"Qwen__Qwen3-14B_preds_2.jsonl\", orient=\"records\", lines=True)"
   ]
  },
  {
   "cell_type": "code",
   "execution_count": 14,
   "id": "2b8d93c0",
   "metadata": {},
   "outputs": [
    {
     "data": {
      "text/plain": [
       "Dataset({\n",
       "    features: ['instance_id', 'text', 'repo', 'base_commit', 'problem_statement', 'hints_text', 'created_at', 'patch', 'test_patch', 'version', 'FAIL_TO_PASS', 'PASS_TO_PASS', 'environment_setup_commit', 'oracle_files', 'prompt', 'num_tokens', 'parsed_commit_content'],\n",
       "    num_rows: 100\n",
       "})"
      ]
     },
     "execution_count": 14,
     "metadata": {},
     "output_type": "execute_result"
    }
   ],
   "source": [
    "ds_swebench = datasets.load_dataset(\"rasdani/SWE-bench_Verified_oracle-parsed_commits_32k_100\", split=\"test\")\n",
    "ds_swebench"
   ]
  },
  {
   "cell_type": "code",
   "execution_count": 15,
   "id": "1e1a4eb3",
   "metadata": {},
   "outputs": [
    {
     "name": "stderr",
     "output_type": "stream",
     "text": [
      "Filter: 100%|██████████| 100/100 [00:00<00:00, 3980.28 examples/s]\n"
     ]
    },
    {
     "data": {
      "text/plain": [
       "Dataset({\n",
       "    features: ['instance_id', 'text', 'repo', 'base_commit', 'problem_statement', 'hints_text', 'created_at', 'patch', 'test_patch', 'version', 'FAIL_TO_PASS', 'PASS_TO_PASS', 'environment_setup_commit', 'oracle_files', 'prompt', 'num_tokens', 'parsed_commit_content'],\n",
       "    num_rows: 2\n",
       "})"
      ]
     },
     "execution_count": 15,
     "metadata": {},
     "output_type": "execute_result"
    }
   ],
   "source": [
    "ds_debug = ds_swebench.filter(lambda x: x[\"instance_id\"] in instance_ids)\n",
    "ds_debug"
   ]
  },
  {
   "cell_type": "code",
   "execution_count": null,
   "id": "ef1a9961",
   "metadata": {},
   "outputs": [],
   "source": [
    "ds_debug.push_to_hub(\"rasdani/SWE-bench_Verified_oracle-parsed_commits_32k_2\")"
   ]
  }
 ],
 "metadata": {
  "kernelspec": {
   "display_name": ".venv",
   "language": "python",
   "name": "python3"
  },
  "language_info": {
   "codemirror_mode": {
    "name": "ipython",
    "version": 3
   },
   "file_extension": ".py",
   "mimetype": "text/x-python",
   "name": "python",
   "nbconvert_exporter": "python",
   "pygments_lexer": "ipython3",
   "version": "3.12.11"
  }
 },
 "nbformat": 4,
 "nbformat_minor": 5
}
