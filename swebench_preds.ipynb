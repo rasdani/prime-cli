{
 "cells": [
  {
   "cell_type": "code",
   "execution_count": 11,
   "id": "77ddde4b",
   "metadata": {},
   "outputs": [],
   "source": [
    "import datasets"
   ]
  },
  {
   "cell_type": "code",
   "execution_count": 12,
   "id": "06f25f00",
   "metadata": {},
   "outputs": [
    {
     "data": {
      "text/plain": [
       "Dataset({\n",
       "    features: ['instance_id', 'model_name_or_path', 'model_patch', 'prediction'],\n",
       "    num_rows: 100\n",
       "})"
      ]
     },
     "execution_count": 12,
     "metadata": {},
     "output_type": "execute_result"
    }
   ],
   "source": [
    "ds = datasets.load_dataset(\"rasdani/Qwen__Qwen3-14B_preds_100\", split=\"train\")\n",
    "ds"
   ]
  },
  {
   "cell_type": "code",
   "execution_count": 13,
   "id": "4ca46013",
   "metadata": {},
   "outputs": [
    {
     "data": {
      "text/plain": [
       "'sympy__sympy-21596'"
      ]
     },
     "execution_count": 13,
     "metadata": {},
     "output_type": "execute_result"
    }
   ],
   "source": [
    "ds[0][\"instance_id\"]"
   ]
  },
  {
   "cell_type": "code",
   "execution_count": 16,
   "id": "15701b44",
   "metadata": {},
   "outputs": [],
   "source": [
    "ds = ds.select(range(2))"
   ]
  },
  {
   "cell_type": "code",
   "execution_count": 17,
   "id": "21e17fad",
   "metadata": {},
   "outputs": [
    {
     "name": "stderr",
     "output_type": "stream",
     "text": [
      "Creating json from Arrow format: 100%|██████████| 1/1 [00:00<00:00, 1066.17ba/s]\n"
     ]
    },
    {
     "data": {
      "text/plain": [
       "16349"
      ]
     },
     "execution_count": 17,
     "metadata": {},
     "output_type": "execute_result"
    }
   ],
   "source": [
    "# ds.to_json(\"Qwen__Qwen3-14B_preds_100.jsonl\", orient=\"records\", lines=True)\n",
    "ds.to_json(\"Qwen__Qwen3-14B_preds_2.jsonl\", orient=\"records\", lines=True)"
   ]
  },
  {
   "cell_type": "code",
   "execution_count": null,
   "id": "2b8d93c0",
   "metadata": {},
   "outputs": [],
   "source": []
  }
 ],
 "metadata": {
  "kernelspec": {
   "display_name": "base",
   "language": "python",
   "name": "python3"
  },
  "language_info": {
   "codemirror_mode": {
    "name": "ipython",
    "version": 3
   },
   "file_extension": ".py",
   "mimetype": "text/x-python",
   "name": "python",
   "nbconvert_exporter": "python",
   "pygments_lexer": "ipython3",
   "version": "3.12.9"
  }
 },
 "nbformat": 4,
 "nbformat_minor": 5
}
