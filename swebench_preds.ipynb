{
 "cells": [
  {
   "cell_type": "code",
   "execution_count": 1,
   "id": "77ddde4b",
   "metadata": {},
   "outputs": [
    {
     "name": "stderr",
     "output_type": "stream",
     "text": [
      "/home/ubuntu/prime-cli/.venv/lib/python3.12/site-packages/tqdm/auto.py:21: TqdmWarning: IProgress not found. Please update jupyter and ipywidgets. See https://ipywidgets.readthedocs.io/en/stable/user_install.html\n",
      "  from .autonotebook import tqdm as notebook_tqdm\n"
     ]
    }
   ],
   "source": [
    "import datasets"
   ]
  },
  {
   "cell_type": "code",
   "execution_count": 2,
   "id": "06f25f00",
   "metadata": {},
   "outputs": [
    {
     "data": {
      "text/plain": [
       "Dataset({\n",
       "    features: ['instance_id', 'model_name_or_path', 'model_patch', 'prediction'],\n",
       "    num_rows: 100\n",
       "})"
      ]
     },
     "execution_count": 2,
     "metadata": {},
     "output_type": "execute_result"
    }
   ],
   "source": [
    "ds = datasets.load_dataset(\"rasdani/Qwen__Qwen3-14B_preds_100\", split=\"train\")\n",
    "ds"
   ]
  },
  {
   "cell_type": "code",
   "execution_count": 3,
   "id": "4ca46013",
   "metadata": {},
   "outputs": [
    {
     "data": {
      "text/plain": [
       "'sympy__sympy-21596'"
      ]
     },
     "execution_count": 3,
     "metadata": {},
     "output_type": "execute_result"
    }
   ],
   "source": [
    "ds[0][\"instance_id\"]"
   ]
  },
  {
   "cell_type": "code",
   "execution_count": 4,
   "id": "15701b44",
   "metadata": {},
   "outputs": [],
   "source": [
    "# ds = ds.select(range(2))\n",
    "instance_ids = [\n",
    "    \"sympy__sympy-17655\",   # successful patch\n",
    "    \"matplotlib__matplotlib-24637\", # unsuccessful patch\n",
    "]\n",
    "ds = ds.filter(lambda x: x[\"instance_id\"] in instance_ids)"
   ]
  },
  {
   "cell_type": "code",
   "execution_count": null,
   "id": "21e17fad",
   "metadata": {},
   "outputs": [],
   "source": [
    "# ds.to_json(\"Qwen__Qwen3-14B_preds_100.jsonl\", orient=\"records\", lines=True)\n",
    "ds.to_json(\"Qwen__Qwen3-14B_preds_2.jsonl\", orient=\"records\", lines=True)"
   ]
  },
  {
   "cell_type": "code",
   "execution_count": 6,
   "id": "2b8d93c0",
   "metadata": {},
   "outputs": [
    {
     "data": {
      "text/plain": [
       "Dataset({\n",
       "    features: ['instance_id', 'text', 'repo', 'base_commit', 'problem_statement', 'hints_text', 'created_at', 'patch', 'test_patch', 'version', 'FAIL_TO_PASS', 'PASS_TO_PASS', 'environment_setup_commit', 'oracle_files', 'prompt', 'num_tokens', 'parsed_commit_content'],\n",
       "    num_rows: 100\n",
       "})"
      ]
     },
     "execution_count": 6,
     "metadata": {},
     "output_type": "execute_result"
    }
   ],
   "source": [
    "ds_swebench = datasets.load_dataset(\"rasdani/SWE-bench_Verified_oracle-parsed_commits_32k_100\", split=\"test\")\n",
    "ds_swebench"
   ]
  },
  {
   "cell_type": "code",
   "execution_count": 7,
   "id": "1e1a4eb3",
   "metadata": {},
   "outputs": [
    {
     "data": {
      "text/plain": [
       "Dataset({\n",
       "    features: ['instance_id', 'text', 'repo', 'base_commit', 'problem_statement', 'hints_text', 'created_at', 'patch', 'test_patch', 'version', 'FAIL_TO_PASS', 'PASS_TO_PASS', 'environment_setup_commit', 'oracle_files', 'prompt', 'num_tokens', 'parsed_commit_content'],\n",
       "    num_rows: 2\n",
       "})"
      ]
     },
     "execution_count": 7,
     "metadata": {},
     "output_type": "execute_result"
    }
   ],
   "source": [
    "ds_debug = ds_swebench.filter(lambda x: x[\"instance_id\"] in instance_ids)\n",
    "ds_debug"
   ]
  },
  {
   "cell_type": "code",
   "execution_count": null,
   "id": "ef1a9961",
   "metadata": {},
   "outputs": [],
   "source": [
    "ds_debug.push_to_hub(\"rasdani/SWE-bench_Verified_oracle-parsed_commits_32k_2\")"
   ]
  },
  {
   "cell_type": "code",
   "execution_count": 8,
   "id": "50b85efe",
   "metadata": {},
   "outputs": [
    {
     "data": {
      "text/plain": [
       "Dataset({\n",
       "    features: ['instance_id', 'text', 'repo', 'base_commit', 'problem_statement', 'hints_text', 'created_at', 'patch', 'test_patch', 'version', 'FAIL_TO_PASS', 'PASS_TO_PASS', 'environment_setup_commit', 'oracle_files', 'prompt', 'num_tokens', 'parsed_commit_content'],\n",
       "    num_rows: 2\n",
       "})"
      ]
     },
     "execution_count": 8,
     "metadata": {},
     "output_type": "execute_result"
    }
   ],
   "source": [
    "ds_debug"
   ]
  },
  {
   "cell_type": "code",
   "execution_count": 11,
   "id": "40dbf5ab",
   "metadata": {},
   "outputs": [
    {
     "name": "stdout",
     "output_type": "stream",
     "text": [
      "diff --git a/sympy/geometry/point.py b/sympy/geometry/point.py\n",
      "--- a/sympy/geometry/point.py\n",
      "+++ b/sympy/geometry/point.py\n",
      "@@ -278,6 +278,10 @@ def __mul__(self, factor):\n",
      "         coords = [simplify(x*factor) for x in self.args]\n",
      "         return Point(coords, evaluate=False)\n",
      " \n",
      "+    def __rmul__(self, factor):\n",
      "+        \"\"\"Multiply a factor by point's coordinates.\"\"\"\n",
      "+        return self.__mul__(factor)\n",
      "+\n",
      "     def __neg__(self):\n",
      "         \"\"\"Negate the point.\"\"\"\n",
      "         coords = [-x for x in self.args]\n",
      "\n",
      "\n"
     ]
    }
   ],
   "source": [
    "print(ds_debug[1][\"patch\"])"
   ]
  },
  {
   "cell_type": "code",
   "execution_count": null,
   "id": "d70ddef1",
   "metadata": {},
   "outputs": [],
   "source": []
  }
 ],
 "metadata": {
  "kernelspec": {
   "display_name": ".venv",
   "language": "python",
   "name": "python3"
  },
  "language_info": {
   "codemirror_mode": {
    "name": "ipython",
    "version": 3
   },
   "file_extension": ".py",
   "mimetype": "text/x-python",
   "name": "python",
   "nbconvert_exporter": "python",
   "pygments_lexer": "ipython3",
   "version": "3.12.11"
  }
 },
 "nbformat": 4,
 "nbformat_minor": 5
}
